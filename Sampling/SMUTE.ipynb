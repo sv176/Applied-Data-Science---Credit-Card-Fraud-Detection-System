{
 "cells": [
  {
   "cell_type": "code",
   "execution_count": 29,
   "metadata": {},
   "outputs": [],
   "source": [
    "import pandas as pd\n",
    "import numpy as np\n",
    "from collections import Counter\n",
    "from numpy import where\n",
    "from sklearn.neighbors import KNeighborsClassifier\n",
    "from sklearn.neighbors import NearestNeighbors\n",
    "from random import randrange, uniform"
   ]
  },
  {
   "cell_type": "code",
   "execution_count": 3,
   "metadata": {},
   "outputs": [],
   "source": [
    "credit_train = pd.read_csv('./dataset/creditcard.csv')\n",
    "is_fraud = (credit_train['Class'] == 1)\n",
    "non_fraud = credit_train[~is_fraud]\n",
    "fraud = credit_train[is_fraud]"
   ]
  },
  {
   "cell_type": "code",
   "execution_count": 4,
   "metadata": {},
   "outputs": [],
   "source": [
    "X_maj = non_fraud.drop(columns=['Class']).copy()\n",
    "y_maj = non_fraud['Class'].copy()\n",
    "X_min = fraud.drop(columns=['Class']).copy()\n",
    "y_min = non_fraud['Class'].copy()"
   ]
  },
  {
   "cell_type": "code",
   "execution_count": 5,
   "metadata": {},
   "outputs": [
    {
     "name": "stdout",
     "output_type": "stream",
     "text": [
      "108353\n"
     ]
    }
   ],
   "source": [
    "x1_id = y_maj.sample().index.item()\n",
    "x1 = X_maj.iloc[x1_id]\n",
    "print(x1_id)"
   ]
  },
  {
   "cell_type": "code",
   "execution_count": 6,
   "metadata": {},
   "outputs": [],
   "source": [
    "knn = KNeighborsClassifier(n_neighbors=5)"
   ]
  },
  {
   "cell_type": "code",
   "execution_count": 7,
   "metadata": {},
   "outputs": [
    {
     "name": "stdout",
     "output_type": "stream",
     "text": [
      "0.0197 seconds\n"
     ]
    }
   ],
   "source": [
    "import time\n",
    "tic = time.perf_counter()\n",
    "knn.fit(X_maj.to_numpy(), y_maj.to_numpy())\n",
    "toc = time.perf_counter()\n",
    "print(f\"{toc - tic:0.4f} seconds\")"
   ]
  },
  {
   "cell_type": "code",
   "execution_count": 8,
   "metadata": {},
   "outputs": [
    {
     "name": "stdout",
     "output_type": "stream",
     "text": [
      "[[108353 108362 108322 108315 108344]]\n"
     ]
    }
   ],
   "source": [
    "distances, indices = knn.kneighbors(x1.to_numpy().reshape(1, -1))\n",
    "print(indices)"
   ]
  },
  {
   "cell_type": "code",
   "execution_count": 9,
   "metadata": {},
   "outputs": [],
   "source": [
    "knn = NearestNeighbors(n_neighbors=6)"
   ]
  },
  {
   "cell_type": "code",
   "execution_count": 10,
   "metadata": {},
   "outputs": [
    {
     "name": "stdout",
     "output_type": "stream",
     "text": [
      "0.0092 seconds\n"
     ]
    }
   ],
   "source": [
    "import time\n",
    "tic = time.perf_counter()\n",
    "knn.fit(X_maj.to_numpy(), y_maj.to_numpy())\n",
    "toc = time.perf_counter()\n",
    "print(f\"{toc - tic:0.4f} seconds\")"
   ]
  },
  {
   "cell_type": "code",
   "execution_count": 11,
   "metadata": {},
   "outputs": [
    {
     "name": "stdout",
     "output_type": "stream",
     "text": [
      "[[108353 108362 108322 108315 108344 108310]]\n"
     ]
    }
   ],
   "source": [
    "distances, indices = knn.kneighbors(x1.to_numpy().reshape(1, -1))\n",
    "print(indices)"
   ]
  },
  {
   "cell_type": "code",
   "execution_count": 44,
   "metadata": {},
   "outputs": [
    {
     "name": "stdout",
     "output_type": "stream",
     "text": [
      "28382\n"
     ]
    }
   ],
   "source": [
    "ratio = 0.9\n",
    "n = len(X_maj) - len(X_min)\n",
    "n_smote = round(n * ratio)\n",
    "n_smute = n - n_smote\n",
    "print(n_smute)"
   ]
  },
  {
   "cell_type": "code",
   "execution_count": 79,
   "metadata": {},
   "outputs": [
    {
     "name": "stdout",
     "output_type": "stream",
     "text": [
      "284315\n",
      "2603.1568 seconds\n"
     ]
    }
   ],
   "source": [
    "# X'_maj <- X_maj\n",
    "X_maj_prime = X_maj.copy()\n",
    "y_maj_prime = y_maj.copy()\n",
    "x3_y = y_maj_prime.sample().copy()\n",
    "print(len(X_maj_prime))\n",
    "\n",
    "tic = time.perf_counter()\n",
    "while((len(X_maj) - len(X_maj_prime)) < n_smute):\n",
    "    x1_d = X_maj_prime.sample().index.item()\n",
    "    x1 = X_maj_prime.iloc[x1_id]\n",
    "    knn.fit(X_maj_prime.to_numpy(), y_maj_prime.to_numpy())\n",
    "    distances, indices = knn.kneighbors(x1.to_numpy().reshape(1, -1))\n",
    "    indices = indices[0][1:6]\n",
    "    x2_id = indices[randrange(5)]\n",
    "    x2 = X_maj_prime.iloc[x2_id]\n",
    "    r = uniform(0, 1)\n",
    "    x3 = x1 + (r * x2)\n",
    "\n",
    "    X_maj_prime = X_maj_prime.drop([x1_id, x2_id])\n",
    "    y_maj_prime = y_maj_prime.drop([x1_id, x2_id])\n",
    "\n",
    "    X_maj_prime = X_maj_prime.append(x3, ignore_index=True)\n",
    "    y_maj_prime = y_maj_prime.append(x3_y, ignore_index=True)\n",
    "\n",
    "toc = time.perf_counter()\n",
    "print(f\"{toc - tic:0.4f} seconds\")\n"
   ]
  },
  {
   "cell_type": "code",
   "execution_count": 81,
   "metadata": {},
   "outputs": [
    {
     "name": "stdout",
     "output_type": "stream",
     "text": [
      "284315\n",
      "255933\n"
     ]
    }
   ],
   "source": [
    "print(len(X_maj))\n",
    "print(len(X_maj_prime))"
   ]
  },
  {
   "cell_type": "code",
   "execution_count": null,
   "metadata": {},
   "outputs": [],
   "source": [
    "def SMUTE(X_maj, y_maj, n_smute):\n",
    "    X_maj_prime = X_maj.copy()\n",
    "    y_maj_prime = y_maj.copy()\n",
    "    x3_y = y_maj_prime.sample().copy()\n",
    "    \n",
    "    knn = NearestNeighbors(n_neighbors=6)\n",
    "    \n",
    "    tic = time.perf_counter()\n",
    "    while((len(X_maj) - len(X_maj_prime)) < n_smute):\n",
    "        x1_id = X_maj_prime.sample().index.item()\n",
    "        x1 = X_maj_prime.iloc[x1_id]\n",
    "        knn.fit(X_maj_prime.to_numpy(), y_maj_prime.to_numpy())\n",
    "        distances, indices = knn.kneighbors(x1.to_numpy().reshape(1, -1))\n",
    "        indices = indices[0][1:6]\n",
    "        x2_id = indices[randrange(5)]\n",
    "        x2 = X_maj_prime.iloc[x2_id]\n",
    "        r = uniform(0, 1)\n",
    "        x3 = x1 + (r * x2)\n",
    "\n",
    "        X_maj_prime = X_maj_prime.drop([x1_id, x2_id])\n",
    "        y_maj_prime = y_maj_prime.drop([x1_id, x2_id])\n",
    "\n",
    "        X_maj_prime = X_maj_prime.append(x3, ignore_index=True)\n",
    "        y_maj_prime = y_maj_prime.append(x3_y, ignore_index=True)\n",
    "\n",
    "    toc = time.perf_counter()\n",
    "    print(f\"{toc - tic:0.4f} seconds\")\n",
    "    \n",
    "    return X_maj_prime, y_maj_prime"
   ]
  },
  {
   "cell_type": "code",
   "execution_count": null,
   "metadata": {},
   "outputs": [],
   "source": [
    "def SMOTE(X_min, y_min, n_smote):\n",
    "    X_min_prime = X_min.copy()\n",
    "    y_min_prime = y_min.copy()\n",
    "    x3_y = y_min_prime.sample().copy()\n",
    "    \n",
    "    knn = NearestNeighbors(n_neighbors=6)\n",
    "    \n",
    "    tic = time.perf_counter()\n",
    "    while((len(X_min) - len(X_min_prime)) < n_smote):\n",
    "        x1_id = X_min_prime.sample().index.item()\n",
    "        x1 = X_min_prime.iloc[x1_id]\n",
    "        knn.fit(X_min_prime.to_numpy(), y_min_prime.to_numpy())\n",
    "        _, indices = knn.kneighbors(x1.to_numpy().reshape(1, -1))\n",
    "        indices = indices[0][1:6]\n",
    "        x2_id = indiced[randrange(5)]\n",
    "        x2 = X_maj_prime.iloc[x2_id]\n",
    "        r = uniform(0, 1)\n",
    "        x3 = x1 + (r * x2)\n",
    "        \n",
    "        X_min_prime = X_min_prime.append(x3, ignore_index=True)\n",
    "        y_min_prime = y_min_prime.append(x3_y, ignore_index=True)\n",
    "    \n",
    "    toc = time.perf_counter()\n",
    "    print(f\"{toc - tic:0.4f} seconds\")\n",
    "    \n",
    "    return X_min_prime, y_min_prime"
   ]
  },
  {
   "cell_type": "code",
   "execution_count": null,
   "metadata": {},
   "outputs": [],
   "source": [
    "def CSMOUTE(majority, minority, ratio):\n",
    "    X_maj = majority.drop(columns=['Class']).copy()\n",
    "    y_maj = majority['Class'].copy()\n",
    "    X_min = minority.drop(columns=['Class']).copy()\n",
    "    y_min = minority['Class'].copy()\n",
    "    \n",
    "    n = len(X_maj) - len(X_min)\n",
    "    n_smote = round(n * ratio)\n",
    "    n_smute = n - n_smote\n",
    "    \n",
    "    X_min_prime, y_min_prime = SMOTE(X_min, y_min, n_smote)\n",
    "    X_maj_prime, y_maj_prime = SMUTE(X_maj, y_maj, n_smute)\n",
    "    \n",
    "    return X_maj_prime, y_maj_prime, X_min_prime, y_min_prime"
   ]
  }
 ],
 "metadata": {
  "kernelspec": {
   "display_name": "Python 3",
   "language": "python",
   "name": "python3"
  },
  "language_info": {
   "codemirror_mode": {
    "name": "ipython",
    "version": 3
   },
   "file_extension": ".py",
   "mimetype": "text/x-python",
   "name": "python",
   "nbconvert_exporter": "python",
   "pygments_lexer": "ipython3",
   "version": "3.8.5"
  }
 },
 "nbformat": 4,
 "nbformat_minor": 4
}
