{
 "cells": [
  {
   "cell_type": "code",
   "execution_count": 25,
   "metadata": {},
   "outputs": [],
   "source": [
    "import pandas as pd\n",
    "import numpy as np\n",
    "from collections import Counter\n",
    "from numpy import where\n",
    "from sklearn.neighbors import KNeighborsClassifier\n",
    "from sklearn.neighbors import NearestNeighbors\n",
    "from random import randrange, uniform\n",
    "import time"
   ]
  },
  {
   "cell_type": "code",
   "execution_count": 26,
   "metadata": {},
   "outputs": [],
   "source": [
    "credit_train = pd.read_csv('./dataset/creditcard.csv')\n",
    "is_fraud = (credit_train['Class'] == 1)\n",
    "non_fraud = credit_train[~is_fraud]\n",
    "fraud = credit_train[is_fraud]"
   ]
  },
  {
   "cell_type": "code",
   "execution_count": 27,
   "metadata": {},
   "outputs": [],
   "source": [
    "def SMUTE(X_maj, y_maj, n_smute):\n",
    "    X_maj_prime = X_maj.copy().reset_index(drop=True)\n",
    "    y_maj_prime = y_maj.copy().reset_index(drop=True)\n",
    "    \n",
    "    x3_y = y_maj_prime.sample().copy()\n",
    "    \n",
    "    knn = NearestNeighbors(n_neighbors=6)\n",
    "    \n",
    "    tic = time.perf_counter()\n",
    "    while((len(X_maj) - len(X_maj_prime)) < n_smute):\n",
    "        x1_id = X_maj_prime.sample().index.item()\n",
    "        x1 = X_maj_prime.iloc[x1_id]\n",
    "        knn.fit(X_maj_prime.to_numpy(), y_maj_prime.to_numpy())\n",
    "        distances, indices = knn.kneighbors(x1.to_numpy().reshape(1, -1))\n",
    "        indices = indices[0][1:6]\n",
    "        x2_id = indices[randrange(5)]\n",
    "        x2 = X_maj_prime.iloc[x2_id]\n",
    "        r = uniform(0, 1)\n",
    "        x3 = x1 + (r * (x2 - x1))\n",
    "\n",
    "        X_maj_prime = X_maj_prime.drop([x1_id, x2_id]).reset_index(drop=True)\n",
    "        y_maj_prime = y_maj_prime.drop([x1_id, x2_id]).reset_index(drop=True)\n",
    "\n",
    "        X_maj_prime = X_maj_prime.append(x3, ignore_index=True)\n",
    "        y_maj_prime = y_maj_prime.append(x3_y, ignore_index=True)\n",
    "\n",
    "    toc = time.perf_counter()\n",
    "    print(f\"SMUTE: {toc - tic:0.4f} seconds\")\n",
    "    \n",
    "    return X_maj_prime, y_maj_prime"
   ]
  },
  {
   "cell_type": "code",
   "execution_count": 28,
   "metadata": {},
   "outputs": [],
   "source": [
    "def SMOTE(X_min, y_min, n_smote):\n",
    "    X_min = X_min.reset_index(drop=True)\n",
    "    y_min = y_min.reset_index(drop=True)\n",
    "    \n",
    "    X_min_prime = X_min.copy()\n",
    "    y_min_prime = y_min.copy()\n",
    "        \n",
    "    x3_y = y_min_prime.sample().copy()\n",
    "    \n",
    "    knn = NearestNeighbors(n_neighbors=6)\n",
    "    knn.fit(X_min.to_numpy(), y_min.to_numpy())\n",
    "\n",
    "    tic = time.perf_counter()\n",
    "    while((len(X_min_prime) - len(X_min)) < n_smote):\n",
    "        x1_id = X_min.sample().index.item()\n",
    "        x1 = X_min.iloc[x1_id]\n",
    "        _, indices = knn.kneighbors(x1.to_numpy().reshape(1, -1))\n",
    "        indices = indices[0][1:6]\n",
    "        x2_id = indices[randrange(5)]\n",
    "        x2 = X_min.iloc[x2_id]\n",
    "        r = uniform(0, 1)\n",
    "        x3 = x1 + (r * (x2 - x1))\n",
    "        X_min_prime = X_min_prime.append(x3, ignore_index=True)\n",
    "        y_min_prime = y_min_prime.append(x3_y, ignore_index=True)\n",
    "        \n",
    "    toc = time.perf_counter()\n",
    "    print(f\"SMOTE: {toc - tic:0.4f} seconds\")\n",
    "    \n",
    "    return X_min_prime, y_min_prime"
   ]
  },
  {
   "cell_type": "code",
   "execution_count": 29,
   "metadata": {},
   "outputs": [],
   "source": [
    "def CSMOUTE(majority, minority, ratio):\n",
    "    tic = time.perf_counter()\n",
    "    X_maj = majority.drop(columns=['Class']).copy()\n",
    "    y_maj = majority['Class'].copy()\n",
    "    \n",
    "    X_min = minority.drop(columns=['Class']).copy()\n",
    "    y_min = minority['Class'].copy()\n",
    "    \n",
    "    n = len(X_maj) - len(X_min)\n",
    "    n_smote = round(n * ratio)\n",
    "    n_smute = n - n_smote\n",
    "    \n",
    "    X_min_prime, y_min_prime = SMOTE(X_min, y_min, n_smote)\n",
    "    X_maj_prime, y_maj_prime = SMUTE(X_maj, y_maj, n_smute)\n",
    "    \n",
    "    toc = time.perf_counter()\n",
    "    print(f\"Overall: {toc - tic:0.4f} seconds\")\n",
    "    \n",
    "    return X_maj_prime, y_maj_prime, X_min_prime, y_min_prime"
   ]
  },
  {
   "cell_type": "code",
   "execution_count": 30,
   "metadata": {},
   "outputs": [
    {
     "name": "stdout",
     "output_type": "stream",
     "text": [
      "SMOTE: 3297.2283 seconds\n",
      "SMUTE: 0.0000 seconds\n",
      "Overall: 3297.3012 seconds\n"
     ]
    }
   ],
   "source": [
    "X_maj_prime, y_maj_prime, X_min_prime, y_min_prime = CSMOUTE(non_fraud, fraud, 1)"
   ]
  },
  {
   "cell_type": "code",
   "execution_count": 7,
   "metadata": {},
   "outputs": [],
   "source": [
    "def plot(counter, a, b, data, labels, x, y):\n",
    "    alphas = [a, b]\n",
    "    for label, _ in counter.items():\n",
    "        row_ix = where(labels == label)[0]\n",
    "        plt.scatter(\n",
    "            data.iloc[row_ix][x],\n",
    "            data.iloc[row_ix][y],\n",
    "            label=str(label),\n",
    "            alpha=alphas[label]\n",
    "        )\n",
    "    plt.legend()\n",
    "    plt.title('CreditCard.csv')\n",
    "    plt.xlabel(x)\n",
    "    plt.ylabel(y)\n",
    "    plt.show()"
   ]
  },
  {
   "cell_type": "code",
   "execution_count": 8,
   "metadata": {},
   "outputs": [],
   "source": [
    "from collections import Counter\n",
    "import matplotlib.pyplot as plt"
   ]
  },
  {
   "cell_type": "code",
   "execution_count": 9,
   "metadata": {},
   "outputs": [],
   "source": [
    "counter = Counter(y_min_prime)"
   ]
  },
  {
   "cell_type": "code",
   "execution_count": 22,
   "metadata": {},
   "outputs": [
    {
     "data": {
      "image/png": "[encoded data removed]",
      "text/plain": [
       "<Figure size 432x288 with 1 Axes>"
      ]
     },
     "metadata": {
      "needs_background": "light"
     },
     "output_type": "display_data"
    }
   ],
   "source": [
    "plot(counter, 0.5, 0.5, X_min_prime, y_min_prime, 'V1', 'V2')"
   ]
  },
  {
   "cell_type": "code",
   "execution_count": null,
   "metadata": {},
   "outputs": [],
   "source": []
  }
 ],
 "metadata": {
  "kernelspec": {
   "display_name": "Python 3",
   "language": "python",
   "name": "python3"
  },
  "language_info": {
   "codemirror_mode": {
    "name": "ipython",
    "version": 3
   },
   "file_extension": ".py",
   "mimetype": "text/x-python",
   "name": "python",
   "nbconvert_exporter": "python",
   "pygments_lexer": "ipython3",
   "version": "3.8.5"
  }
 },
 "nbformat": 4,
 "nbformat_minor": 4
}
