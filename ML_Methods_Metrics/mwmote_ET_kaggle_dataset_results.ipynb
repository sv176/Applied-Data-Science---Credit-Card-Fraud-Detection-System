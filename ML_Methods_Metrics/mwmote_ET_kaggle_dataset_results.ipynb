{
  "nbformat": 4,
  "nbformat_minor": 0,
  "metadata": {
    "colab": {
      "name": "mwmote-ET-kaggle-dataset-results.ipynb",
      "provenance": [],
      "collapsed_sections": []
    },
    "kernelspec": {
      "name": "python3",
      "display_name": "Python 3"
    },
    "language_info": {
      "name": "python"
    }
  },
  "cells": [
    {
      "cell_type": "code",
      "metadata": {
        "colab": {
          "base_uri": "https://localhost:8080/"
        },
        "id": "mLFxrRT5XZp5",
        "outputId": "64971f63-0281-4222-b28b-6cd6ca835156"
      },
      "source": [
        "import tensorflow as tf\n",
        "from tensorflow.keras import Sequential\n",
        "from tensorflow.keras.layers import Flatten, Dense, Dropout, BatchNormalization\n",
        "from tensorflow.keras.layers import Conv1D, MaxPool1D\n",
        "from tensorflow.keras.optimizers import Adam\n",
        "from tensorflow.keras.layers import Dense, Dropout, Activation\n",
        "from tensorflow.keras import models\n",
        "from keras.models import load_model\n",
        "print(tf.__version__)\n",
        "\n",
        "import pandas as pd\n",
        "import numpy as np\n",
        "import seaborn as sns\n",
        "import matplotlib.pyplot as plt\n",
        "\n",
        "from sklearn.model_selection import train_test_split\n",
        "from sklearn.metrics import accuracy_score\n",
        "from sklearn.preprocessing import LabelEncoder\n",
        "from sklearn.preprocessing import StandardScaler\n",
        "from sklearn.ensemble import ExtraTreesClassifier\n",
        "from sklearn import svm\n",
        "from sklearn.linear_model import LogisticRegression\n",
        "from sklearn.ensemble import RandomForestClassifier\n",
        "from sklearn.linear_model import LogisticRegression\n",
        "from sklearn.metrics import confusion_matrix, precision_recall_curve, roc_auc_score, roc_curve, recall_score, classification_report\n",
        "\n",
        "import pandas as pd\n",
        "import numpy as np\n",
        "import  seaborn as sns\n",
        "import matplotlib.pyplot as plt\n",
        "from sklearn.model_selection import train_test_split\n",
        "from sklearn.utils import shuffle\n",
        "from sklearn.preprocessing import StandardScaler"
      ],
      "execution_count": 43,
      "outputs": [
        {
          "output_type": "stream",
          "text": [
            "2.4.1\n"
          ],
          "name": "stdout"
        }
      ]
    },
    {
      "cell_type": "code",
      "metadata": {
        "colab": {
          "base_uri": "https://localhost:8080/"
        },
        "id": "D2csP7RKeQKO",
        "outputId": "4ecd2ffb-b61b-4dce-bfc4-72c965a656f9"
      },
      "source": [
        "train = pd.read_csv('MWMOTE_creditcard_samples.csv',sep=',')\n",
        "train= train.drop('Unnamed: 0',1)\n",
        "test= pd.read_csv('creditcard_test.csv', sep=',')\n",
        "test= test.drop('Unnamed: 0',1)\n",
        "print(len(train))\n",
        "print(len(test))\n",
        "print(test.columns)"
      ],
      "execution_count": 56,
      "outputs": [
        {
          "output_type": "stream",
          "text": [
            "454902\n",
            "56962\n",
            "Index(['Time', 'V1', 'V2', 'V3', 'V4', 'V5', 'V6', 'V7', 'V8', 'V9', 'V10',\n",
            "       'V11', 'V12', 'V13', 'V14', 'V15', 'V16', 'V17', 'V18', 'V19', 'V20',\n",
            "       'V21', 'V22', 'V23', 'V24', 'V25', 'V26', 'V27', 'V28', 'Amount',\n",
            "       'Class'],\n",
            "      dtype='object')\n"
          ],
          "name": "stdout"
        }
      ]
    },
    {
      "cell_type": "code",
      "metadata": {
        "colab": {
          "base_uri": "https://localhost:8080/"
        },
        "id": "la2_SvhZ4LaN",
        "outputId": "cd731ac5-ad49-4cfd-ac72-0333607f5f58"
      },
      "source": [
        "std_scale=StandardScaler()\n",
        "\n",
        "numeric_features_test = test.select_dtypes(include=[np.number])\n",
        "numeric_features_test = numeric_features_test.drop('Class',1)\n",
        "std_scale.fit(numeric_features_test)\n",
        "norm_num_test= std_scale.transform(numeric_features_test)\n",
        "norm_num_test = pd.DataFrame(norm_num_test, index=numeric_features_test.index, columns=numeric_features_test.columns) \n",
        "norm_num_test.update(norm_num_test)\n",
        "\n",
        "label_enc= LabelEncoder()\n",
        "\n",
        "categoric_features_test = test.select_dtypes(include=['object']).copy()\n",
        "categoric_cols=(categoric_features_test.columns).tolist()\n",
        "categoric_features_test[categoric_cols]=categoric_features_test[categoric_cols].apply(lambda col: label_enc.fit_transform(col))\n",
        "le_cat_test= categoric_features_test[categoric_cols]\n",
        "#concates these to form features and target class\n",
        "X_test= pd.concat([norm_num_test, le_cat_test], axis=1)\n",
        "Y_test= test['Class'].copy()\n",
        "print(X_test.columns)"
      ],
      "execution_count": 57,
      "outputs": [
        {
          "output_type": "stream",
          "text": [
            "Index(['Time', 'V1', 'V2', 'V3', 'V4', 'V5', 'V6', 'V7', 'V8', 'V9', 'V10',\n",
            "       'V11', 'V12', 'V13', 'V14', 'V15', 'V16', 'V17', 'V18', 'V19', 'V20',\n",
            "       'V21', 'V22', 'V23', 'V24', 'V25', 'V26', 'V27', 'V28', 'Amount'],\n",
            "      dtype='object')\n"
          ],
          "name": "stdout"
        }
      ]
    },
    {
      "cell_type": "code",
      "metadata": {
        "colab": {
          "base_uri": "https://localhost:8080/",
          "height": 1000
        },
        "id": "9Vn1TjNFZ9rk",
        "outputId": "d67aef92-21f1-4f9f-eae8-2f602527f066"
      },
      "source": [
        "numeric_features_train = train.select_dtypes(include=[np.number])\n",
        "numeric_features_train = numeric_features_train.drop('Class',1)\n",
        "std_scale.fit(numeric_features_train)\n",
        "norm_num_train= std_scale.transform(numeric_features_train)\n",
        "norm_num_train = pd.DataFrame(norm_num_train, index=numeric_features_train.index, columns=numeric_features_train.columns) \n",
        "norm_num_train.update(norm_num_train)\n",
        "print(len(norm_num_train))\n",
        "\n",
        "label_enc= LabelEncoder()\n",
        "\n",
        "categoric_features_train = train.select_dtypes(include=['object']).copy()\n",
        "print(len(categoric_features_train))\n",
        "categoric_cols=(categoric_features_train.columns).tolist()\n",
        "categoric_features_train[categoric_cols]=categoric_features_train[categoric_cols].apply(lambda col: label_enc.fit_transform(col))\n",
        "le_cat_train= categoric_features_train[categoric_cols]\n",
        "print(len(le_cat_train))\n",
        "\n",
        "X_train= pd.concat([norm_num_train, le_cat_train],axis=1)\n",
        "Y_train = train['Class'].reset_index(drop=True)\n",
        "Y_train= pd.DataFrame(Y_train)\n",
        "print(X_test.columns)\n",
        "\n",
        "#Random Forest and Extra Trees used for feature selection, selects 10 best features through feature importance\n",
        "\n",
        "modelxgb = ExtraTreesClassifier()\n",
        "modelxgb.fit(X_train, Y_train)\n",
        "\n",
        "f_xgb = pd.DataFrame(data={'X_train':X_train.columns,'value':modelxgb.feature_importances_})\n",
        "f_xgb = f_xgb.sort_values(['value'],ascending=False )\n",
        "plt.figure(figsize=(15,8))\n",
        "sns.barplot(f_xgb['X_train'],f_xgb['value'])\n",
        "\n",
        "etcmodel = ExtraTreesClassifier()\n",
        "etcmodel.fit(X_train,Y_train)\n",
        "\n",
        "f_etc = pd.DataFrame(data={'X_train':X_train.columns,'value':etcmodel.feature_importances_})\n",
        "f_etc = f_etc.sort_values(['value'],ascending=False )\n",
        "plt.figure(figsize=(15,8))\n",
        "sns.barplot(f_etc['X_train'],f_etc['value'])\n",
        "\n",
        "ft = pd.merge(f_xgb, f_etc,how='inner', on=[\"X_train\"])\n",
        "ft.sort_values([\"value_x\",\"value_y\"],ascending=False, inplace=True)\n",
        "print(X_test.columns)\n",
        "\n",
        "top10ft = ft.head(10)\n",
        "#selects top 10 variables\n",
        "X_train=X_train[top10ft.X_train]\n",
        "X_test=X_test[top10ft.X_train]\n"
      ],
      "execution_count": 58,
      "outputs": [
        {
          "output_type": "stream",
          "text": [
            "454902\n",
            "454902\n",
            "454902\n",
            "Index(['Time', 'V1', 'V2', 'V3', 'V4', 'V5', 'V6', 'V7', 'V8', 'V9', 'V10',\n",
            "       'V11', 'V12', 'V13', 'V14', 'V15', 'V16', 'V17', 'V18', 'V19', 'V20',\n",
            "       'V21', 'V22', 'V23', 'V24', 'V25', 'V26', 'V27', 'V28', 'Amount'],\n",
            "      dtype='object')\n"
          ],
          "name": "stdout"
        },
        {
          "output_type": "stream",
          "text": [
            "/usr/local/lib/python3.7/dist-packages/ipykernel_launcher.py:26: DataConversionWarning: A column-vector y was passed when a 1d array was expected. Please change the shape of y to (n_samples,), for example using ravel().\n",
            "/usr/local/lib/python3.7/dist-packages/seaborn/_decorators.py:43: FutureWarning: Pass the following variables as keyword args: x, y. From version 0.12, the only valid positional argument will be `data`, and passing other arguments without an explicit keyword will result in an error or misinterpretation.\n",
            "  FutureWarning\n",
            "/usr/local/lib/python3.7/dist-packages/ipykernel_launcher.py:34: DataConversionWarning: A column-vector y was passed when a 1d array was expected. Please change the shape of y to (n_samples,), for example using ravel().\n",
            "/usr/local/lib/python3.7/dist-packages/seaborn/_decorators.py:43: FutureWarning: Pass the following variables as keyword args: x, y. From version 0.12, the only valid positional argument will be `data`, and passing other arguments without an explicit keyword will result in an error or misinterpretation.\n",
            "  FutureWarning\n"
          ],
          "name": "stderr"
        },
        {
          "output_type": "stream",
          "text": [
            "Index(['Time', 'V1', 'V2', 'V3', 'V4', 'V5', 'V6', 'V7', 'V8', 'V9', 'V10',\n",
            "       'V11', 'V12', 'V13', 'V14', 'V15', 'V16', 'V17', 'V18', 'V19', 'V20',\n",
            "       'V21', 'V22', 'V23', 'V24', 'V25', 'V26', 'V27', 'V28', 'Amount'],\n",
            "      dtype='object')\n"
          ],
          "name": "stdout"
        },
        {
          "output_type": "display_data",
          "data": {
            "image/png": "[encoded data removed]",
            "text/plain": [
              "<Figure size 1080x576 with 1 Axes>"
            ]
          },
          "metadata": {
            "tags": [],
            "needs_background": "light"
          }
        },
        {
          "output_type": "display_data",
          "data": {
            "image/png": "[encoded data removed]",
            "text/plain": [
              "<Figure size 1080x576 with 1 Axes>"
            ]
          },
          "metadata": {
            "tags": [],
            "needs_background": "light"
          }
        }
      ]
    },
    {
      "cell_type": "code",
      "metadata": {
        "colab": {
          "base_uri": "https://localhost:8080/"
        },
        "id": "oolDtzOnaBJq",
        "outputId": "91dc5a9d-4407-4ce3-a714-5eb48cbfa80d"
      },
      "source": [
        "from sklearn.linear_model import LogisticRegression\n",
        "from sklearn.neighbors import KNeighborsClassifier\n",
        "from sklearn.svm import SVC\n",
        "from sklearn.ensemble import RandomForestClassifier\n",
        "from sklearn.ensemble import ExtraTreesClassifier\n",
        "from sklearn.naive_bayes import GaussianNB\n",
        "from sklearn import model_selection\n",
        "from sklearn.utils import class_weight\n",
        "from sklearn.metrics import classification_report, confusion_matrix, precision_score, recall_score, f1_score\n",
        "from sklearn.model_selection import GridSearchCV\n",
        "from imblearn.metrics import classification_report_imbalanced\n",
        "import re\n",
        "from io import StringIO \n",
        "import numpy as np\n",
        "import pandas as pd\n",
        "\n",
        "\n",
        "et= ExtraTreesClassifier()\n",
        "et.fit(X_train,Y_train)\n",
        "v_pred= et.predict(X_test)"
      ],
      "execution_count": 59,
      "outputs": [
        {
          "output_type": "stream",
          "text": [
            "/usr/local/lib/python3.7/dist-packages/ipykernel_launcher.py:19: DataConversionWarning: A column-vector y was passed when a 1d array was expected. Please change the shape of y to (n_samples,), for example using ravel().\n"
          ],
          "name": "stderr"
        }
      ]
    },
    {
      "cell_type": "code",
      "metadata": {
        "colab": {
          "base_uri": "https://localhost:8080/"
        },
        "id": "xzS2Ki1ygVY2",
        "outputId": "0aabac23-0161-4984-fd0b-6a786ca65e33"
      },
      "source": [
        "csv_link= '.csv'\n",
        "classifier_name= 'et_'\n",
        "cm= confusion_matrix(Y_test, v_pred)\n",
        "cm= pd.DataFrame(cm)\n",
        "cm_csv= '_cm.csv'\n",
        "\n",
        "cm_to_csv= classifier_name + cm_csv\n",
        "cm.to_csv(cm_to_csv)\n",
        "\n",
        "false_negatives= np.logical_and(Y_test != v_pred, v_pred==0)\n",
        "false_positives= np.logical_and(Y_test!=v_pred, v_pred== 1)\n",
        "credit_fraud_data_fp= test[false_positives==True]\n",
        "credit_fraud_data_fn= test[false_negatives==True]\n",
        "\n",
        "loss_with_classifier_value= np.sum(credit_fraud_data_fn['Amount'])\n",
        "print(credit_fraud_data_fn)\n",
        "loss_with_classifier= pd.DataFrame(['Total loss when using this classifier: ', loss_with_classifier_value])\n",
        "\n",
        "extract_fraud= test[test['Class']==1]\n",
        "loss_without_classifier_value=  np.sum(extract_fraud['Amount'])\n",
        "loss_without_classifier= pd.DataFrame(['Total loss without using this classifier: ', loss_without_classifier_value])\n",
        "\n",
        "savings_with_classifier_value=loss_without_classifier_value-loss_with_classifier_value\n",
        "savings_with_classifier= pd.DataFrame(['Money saved when using this classifier: ', savings_with_classifier_value])\n",
        "\n",
        "financial_loss_general_value= (np.average(credit_fraud_data_fp['Amount'])*len(credit_fraud_data_fp))+(np.average(credit_fraud_data_fn['Amount'])*len(credit_fraud_data_fn))\n",
        "financial_loss_general = pd.DataFrame(['Financial Loss (avg cost: missed fraud)*(FN) + (avg cost: investigating fraud)*(FP)', financial_loss_general_value])\n",
        "class_report= classification_report_imbalanced(Y_test,v_pred)\n",
        "print(class_report)\n",
        "print(savings_with_classifier_value)\n",
        "class_report_imb_csv = pd.read_csv(StringIO(re.sub(r'[-+|]', '', class_report)), sep='\\s{2,}', engine='python')\n",
        "report_to_csv= '_class_report_imb.csv'\n",
        "cri_csv= classifier_name+report_to_csv\n",
        "class_report_imb_csv.to_csv(cri_csv)\n",
        "\n",
        "with open(cri_csv,'a') as f:\n",
        "  loss_with_classifier.to_csv(f, header=False, sep=',')\n",
        "  loss_without_classifier.to_csv(f, header=False, sep=',')\n",
        "  savings_with_classifier.to_csv(f, header=False, sep=',')\n",
        "  financial_loss_general.to_csv(f, header=False, sep=',')"
      ],
      "execution_count": 61,
      "outputs": [
        {
          "output_type": "stream",
          "text": [
            "           Time        V1        V2  ...       V28  Amount  Class\n",
            "10621  129095.0 -1.836940 -1.646764  ...  0.370450  720.80      1\n",
            "12267   70828.0  0.196707  1.189757  ...  0.257315    0.76      1\n",
            "14498   86376.0 -0.670238  0.945206  ...  0.282209  323.77      1\n",
            "19374  152710.0  0.051075  1.310427  ... -0.221816    2.47      1\n",
            "21449  155548.0  1.878230  1.325630  ...  0.005238    7.06      1\n",
            "34810   44532.0 -0.234922  0.355413  ...  0.039581    1.00      1\n",
            "45719  129808.0  1.522080 -0.519429  ...  0.041881  276.17      1\n",
            "\n",
            "[7 rows x 31 columns]\n",
            "                   pre       rec       spe        f1       geo       iba       sup\n",
            "\n",
            "          0       1.00      0.63      0.93      0.78      0.77      0.57     56864\n",
            "          1       0.00      0.93      0.63      0.01      0.77      0.61        98\n",
            "\n",
            "avg / total       1.00      0.63      0.93      0.77      0.77      0.57     56962\n",
            "\n",
            "7580.550000000002\n"
          ],
          "name": "stdout"
        }
      ]
    }
  ]
}