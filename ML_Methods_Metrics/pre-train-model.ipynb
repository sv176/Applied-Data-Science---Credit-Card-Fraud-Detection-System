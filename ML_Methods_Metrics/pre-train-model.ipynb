{
 "cells": [
  {
   "cell_type": "code",
   "execution_count": 6,
   "metadata": {},
   "outputs": [
    {
     "name": "stdout",
     "output_type": "stream",
     "text": [
      "2.4.1\n"
     ]
    }
   ],
   "source": [
    "import tensorflow as tf\n",
    "from tensorflow.keras import Sequential\n",
    "from tensorflow.keras.layers import Flatten, Dense, Dropout, BatchNormalization\n",
    "from tensorflow.keras.layers import Conv1D, MaxPool1D\n",
    "from tensorflow.keras.optimizers import Adam\n",
    "from tensorflow.keras.layers import Dense, Dropout, Activation\n",
    "from tensorflow.keras import models\n",
    "from keras.models import load_model\n",
    "print(tf.__version__)\n",
    "\n",
    "import pandas as pd\n",
    "import numpy as np\n",
    "import seaborn as sns\n",
    "import matplotlib.pyplot as plt\n",
    "\n",
    "from sklearn.model_selection import train_test_split\n",
    "from sklearn.metrics import accuracy_score\n",
    "from sklearn.preprocessing import LabelEncoder\n",
    "from sklearn.preprocessing import StandardScaler\n",
    "from sklearn.ensemble import ExtraTreesClassifier\n",
    "from sklearn import svm\n",
    "from sklearn.linear_model import LogisticRegression\n",
    "from sklearn.ensemble import RandomForestClassifier\n",
    "from sklearn.linear_model import LogisticRegression\n",
    "from sklearn.metrics import confusion_matrix, precision_recall_curve, roc_auc_score, roc_curve, recall_score, classification_report\n",
    "\n",
    "import pandas as pd\n",
    "import numpy as np\n",
    "import  seaborn as sns\n",
    "import matplotlib.pyplot as plt\n",
    "from sklearn.model_selection import train_test_split\n",
    "from sklearn.preprocessing import StandardScaler\n",
    "from imblearn.over_sampling import SMOTE\n",
    "from imblearn.over_sampling import ADASYN"
   ]
  },
  {
   "cell_type": "code",
   "execution_count": 8,
   "metadata": {},
   "outputs": [
    {
     "name": "stdout",
     "output_type": "stream",
     "text": [
      "(568630, 30)\n",
      "(568630, 1)\n",
      "MultiIndex([(  'Time',),\n",
      "            (    'V1',),\n",
      "            (    'V2',),\n",
      "            (    'V3',),\n",
      "            (    'V4',),\n",
      "            (    'V5',),\n",
      "            (    'V6',),\n",
      "            (    'V7',),\n",
      "            (    'V8',),\n",
      "            (    'V9',),\n",
      "            (   'V10',),\n",
      "            (   'V11',),\n",
      "            (   'V12',),\n",
      "            (   'V13',),\n",
      "            (   'V14',),\n",
      "            (   'V15',),\n",
      "            (   'V16',),\n",
      "            (   'V17',),\n",
      "            (   'V18',),\n",
      "            (   'V19',),\n",
      "            (   'V20',),\n",
      "            (   'V21',),\n",
      "            (   'V22',),\n",
      "            (   'V23',),\n",
      "            (   'V24',),\n",
      "            (   'V25',),\n",
      "            (   'V26',),\n",
      "            (   'V27',),\n",
      "            (   'V28',),\n",
      "            ('Amount',)],\n",
      "           )\n"
     ]
    },
    {
     "name": "stderr",
     "output_type": "stream",
     "text": [
      "<ipython-input-8-b1110a9ac199>:24: DataConversionWarning: A column-vector y was passed when a 1d array was expected. Please change the shape of y to (n_samples,), for example using ravel().\n",
      "  modelxgb.fit(X_train_orig, Y_train_orig)\n"
     ]
    },
    {
     "name": "stdout",
     "output_type": "stream",
     "text": [
      "[0.0129897  0.01492117 0.01253543 0.0167045  0.02767713 0.01327776\n",
      " 0.01585037 0.0212676  0.01092651 0.03796466 0.07739854 0.06708272\n",
      " 0.13041365 0.01001632 0.11199648 0.01226063 0.06029858 0.17392598\n",
      " 0.03924475 0.0131662  0.01302409 0.01840687 0.01026456 0.00677262\n",
      " 0.00947962 0.00767267 0.01878951 0.01381948 0.00991075 0.01194116]\n"
     ]
    },
    {
     "name": "stderr",
     "output_type": "stream",
     "text": [
      "<ipython-input-8-b1110a9ac199>:33: DataConversionWarning: A column-vector y was passed when a 1d array was expected. Please change the shape of y to (n_samples,), for example using ravel().\n",
      "  etcmodel.fit(X_train_orig,Y_train_orig)\n"
     ]
    },
    {
     "name": "stdout",
     "output_type": "stream",
     "text": [
      "[0.01567454 0.01267102 0.0128228  0.02949907 0.03647184 0.01506821\n",
      " 0.0132615  0.02321116 0.01456852 0.03104078 0.07486311 0.0811314\n",
      " 0.11305062 0.01225137 0.11676547 0.01316096 0.06076759 0.13694559\n",
      " 0.04833811 0.01459506 0.01247332 0.0172842  0.0123613  0.00940912\n",
      " 0.01244944 0.00953388 0.01475185 0.01187679 0.01157734 0.01212402]\n",
      "  X_train_orig   value_x   value_y\n",
      "0          V17  0.173926  0.136946\n",
      "1          V12  0.130414  0.113051\n",
      "2          V14  0.111996  0.116765\n",
      "3          V10  0.077399  0.074863\n",
      "4          V11  0.067083  0.081131\n",
      "5          V16  0.060299  0.060768\n",
      "6          V18  0.039245  0.048338\n",
      "7           V9  0.037965  0.031041\n",
      "8           V4  0.027677  0.036472\n",
      "9           V7  0.021268  0.023211\n",
      "(284807, 30)\n"
     ]
    },
    {
     "data": {
      "image/png": "[encoded data removed]",
      "text/plain": [
       "<Figure size 1080x576 with 1 Axes>"
      ]
     },
     "metadata": {
      "needs_background": "light"
     },
     "output_type": "display_data"
    },
    {
     "data": {
      "image/png": "[encoded data removed]",
      "text/plain": [
       "<Figure size 1080x576 with 1 Axes>"
      ]
     },
     "metadata": {
      "needs_background": "light"
     },
     "output_type": "display_data"
    }
   ],
   "source": [
    "#loads up kaggle dataset\n",
    "data = pd.read_csv('creditcard.csv')\n",
    "data.head()\n",
    "\n",
    "X_train_orig= data.drop('Class',1)\n",
    "\n",
    "Y_train_orig = data['Class']\n",
    "Y_train_orig = pd.DataFrame(Y_train_orig, columns=['Class'])\n",
    "#applies smote to this class\n",
    "smote= SMOTE()\n",
    "X_train_orig_sm, Y_train_orig_sm= smote.fit_resample(X_train_orig,Y_train_orig)\n",
    "X_train_orig_sm= pd.DataFrame(X_train_orig_sm, columns=X_train_orig.columns)\n",
    "\n",
    "scaler = StandardScaler()\n",
    "X_train_orig_sm = scaler.fit_transform(X_train_orig_sm)\n",
    "X_train_orig_sm = pd.DataFrame(X_train_orig_sm, columns=[X_train_orig.columns])\n",
    "\n",
    "#X_train_orig.shape, X_test_orig.shape\n",
    "print(X_train_orig_sm.shape)\n",
    "print(Y_train_orig_sm.shape)\n",
    "print(X_train_orig_sm.columns)\n",
    "\n",
    "###############Feature selection through RandomForest classifier###############\n",
    "modelxgb = RandomForestClassifier()\n",
    "modelxgb.fit(X_train_orig, Y_train_orig)\n",
    "print(modelxgb.feature_importances_)\n",
    "f_xgb = pd.DataFrame(data={'X_train_orig':X_train_orig.columns,'value':modelxgb.feature_importances_})\n",
    "f_xgb = f_xgb.sort_values(['value'],ascending=False )\n",
    "plt.figure(figsize=(15,8))\n",
    "sns.barplot(f_xgb['X_train_orig'],f_xgb['value'])\n",
    "\n",
    "################Feature selection through ExtraTrees classifier###############\n",
    "etcmodel = ExtraTreesClassifier()\n",
    "etcmodel.fit(X_train_orig,Y_train_orig)\n",
    "print(etcmodel.feature_importances_)\n",
    "f_etc = pd.DataFrame(data={'X_train_orig':X_train_orig.columns,'value':etcmodel.feature_importances_})\n",
    "f_etc = f_etc.sort_values(['value'],ascending=False )\n",
    "plt.figure(figsize=(15,8))\n",
    "sns.barplot(f_etc['X_train_orig'],f_etc['value'])\n",
    "\n",
    "###############Select top 10 features through aggregation from the two feature selection classifier###############\n",
    "ft = pd.merge(f_xgb, f_etc,how='inner', on=[\"X_train_orig\"])\n",
    "ft.sort_values([\"value_x\",\"value_y\"],ascending=False, inplace=True)\n",
    "top10ft = ft.head(10)\n",
    "print(top10ft)\n",
    "\n",
    "###############Filter the dataset with the 22 features selected###############\n",
    "X_train_orig_sm=X_train_orig_sm[top10ft.X_train_orig]\n",
    "print(X_train_orig.shape)\n"
   ]
  },
  {
   "cell_type": "code",
   "execution_count": 9,
   "metadata": {},
   "outputs": [
    {
     "name": "stdout",
     "output_type": "stream",
     "text": [
      "Model: \"sequential\"\n",
      "_________________________________________________________________\n",
      "Layer (type)                 Output Shape              Param #   \n",
      "=================================================================\n",
      "dense (Dense)                (None, 100)               1100      \n",
      "_________________________________________________________________\n",
      "activation (Activation)      (None, 100)               0         \n",
      "_________________________________________________________________\n",
      "dropout (Dropout)            (None, 100)               0         \n",
      "_________________________________________________________________\n",
      "dense_1 (Dense)              (None, 10)                1010      \n",
      "_________________________________________________________________\n",
      "activation_1 (Activation)    (None, 10)                0         \n",
      "_________________________________________________________________\n",
      "dropout_1 (Dropout)          (None, 10)                0         \n",
      "_________________________________________________________________\n",
      "dense_2 (Dense)              (None, 1)                 11        \n",
      "_________________________________________________________________\n",
      "activation_2 (Activation)    (None, 1)                 0         \n",
      "=================================================================\n",
      "Total params: 2,121\n",
      "Trainable params: 2,121\n",
      "Non-trainable params: 0\n",
      "_________________________________________________________________\n",
      "Fitting the data to the model\n",
      "22746/22746 [==============================] - 18s 769us/step - loss: 0.0818 - accuracy: 0.9741 - val_loss: 0.0790 - val_accuracy: 0.9663\n",
      "Evaluating the test data on the model\n",
      "Saved model to disk\n"
     ]
    }
   ],
   "source": [
    "fcn_model = tf.keras.models.Sequential()\n",
    "fcn_model.add(tf.keras.layers.Dense(100, input_shape=(10,) ))\n",
    "fcn_model.add(tf.keras.layers.Activation('relu'))\n",
    "fcn_model.add(tf.keras.layers.Dropout(0.2))\n",
    "fcn_model.add(tf.keras.layers.Dense(10))\n",
    "fcn_model.add(tf.keras.layers.Activation('relu'))\n",
    "fcn_model.add(tf.keras.layers.Dropout(0.2))\n",
    "fcn_model.add(tf.keras.layers.Dense(1))\n",
    "fcn_model.add(tf.keras.layers.Activation('sigmoid'))\n",
    "\n",
    "fcn_model.summary()\n",
    "# need sparse otherwise shape is wrong. check why\n",
    "fcn_model.compile(loss='binary_crossentropy', optimizer='adam', metrics=['accuracy'])\n",
    "\n",
    "batch_size = 20\n",
    "epochs = 10\n",
    "history = fcn_model.fit(X_train_orig_sm, Y_train_orig_sm, batch_size=batch_size, epochs=epochs, verbose=1, validation_split=0.2)\n",
    "\n",
    "# creates a H5PY file 'my_model.h5'\n",
    "fcn_model.save('fcn_model.h5') # save the entire model with trained weights\n"
   ]
  },
  {
   "cell_type": "code",
   "execution_count": 11,
   "metadata": {},
   "outputs": [],
   "source": [
    "X_train_orig_sm_cnn = X_train_orig_sm.values.reshape(X_train_orig_sm.shape[0], X_train_orig_sm.shape[1], 1)"
   ]
  },
  {
   "cell_type": "code",
   "execution_count": 16,
   "metadata": {},
   "outputs": [
    {
     "name": "stdout",
     "output_type": "stream",
     "text": [
      "Model: \"sequential_4\"\n",
      "_________________________________________________________________\n",
      "Layer (type)                 Output Shape              Param #   \n",
      "=================================================================\n",
      "conv1d_2 (Conv1D)            (None, 9, 32)             96        \n",
      "_________________________________________________________________\n",
      "batch_normalization_2 (Batch (None, 9, 32)             128       \n",
      "_________________________________________________________________\n",
      "dropout_5 (Dropout)          (None, 9, 32)             0         \n",
      "_________________________________________________________________\n",
      "conv1d_3 (Conv1D)            (None, 8, 32)             2080      \n",
      "_________________________________________________________________\n",
      "batch_normalization_3 (Batch (None, 8, 32)             128       \n",
      "_________________________________________________________________\n",
      "dropout_6 (Dropout)          (None, 8, 32)             0         \n",
      "_________________________________________________________________\n",
      "flatten_1 (Flatten)          (None, 256)               0         \n",
      "_________________________________________________________________\n",
      "dense_5 (Dense)              (None, 64)                16448     \n",
      "_________________________________________________________________\n",
      "dropout_7 (Dropout)          (None, 64)                0         \n",
      "_________________________________________________________________\n",
      "dense_6 (Dense)              (None, 1)                 65        \n",
      "=================================================================\n",
      "Total params: 18,945\n",
      "Trainable params: 18,817\n",
      "Non-trainable params: 128\n",
      "_________________________________________________________________\n",
      "22746/22746 [==============================] - 34s 1ms/step - loss: 0.0821 - accuracy: 0.9738 - val_loss: 0.0752 - val_accuracy: 0.9640\n"
     ]
    }
   ],
   "source": [
    "cnn_model = Sequential()\n",
    "cnn_model.add(Conv1D(filters = 32, kernel_size=2, activation='relu', input_shape=(X_train_orig_sm_cnn[0].shape)))\n",
    "cnn_model.add(BatchNormalization())\n",
    "cnn_model.add(Dropout(0.2))\n",
    "\n",
    "cnn_model.add(Conv1D(filters = 32, kernel_size=2, activation='relu'))\n",
    "cnn_model.add(BatchNormalization())\n",
    "cnn_model.add(Dropout(0.4))\n",
    "\n",
    "cnn_model.add(Flatten())\n",
    "cnn_model.add(Dense(units=64, activation='relu'))\n",
    "cnn_model.add(Dropout(0.5))\n",
    "\n",
    "cnn_model.add(Dense(units=1, activation='sigmoid'))\n",
    "\n",
    "cnn_model.summary()\n",
    "batch_size = 20\n",
    "epochs = 10\n",
    "cnn_model.compile(optimizer=Adam(lr=0.001), loss='binary_crossentropy', metrics=['accuracy'])\n",
    "history = cnn_model.fit(X_train_orig_sm_cnn, Y_train_orig_sm, batch_size=batch_size, epochs=1, verbose=1, validation_split=0.2)\n",
    "\n",
    "cnn_model.save('cnn_model.h5') # save the entire model with trained weights"
   ]
  },
  {
   "cell_type": "code",
   "execution_count": null,
   "metadata": {},
   "outputs": [],
   "source": []
  }
 ],
 "metadata": {
  "kernelspec": {
   "display_name": ".venv",
   "language": "python",
   "name": ".venv"
  },
  "language_info": {
   "codemirror_mode": {
    "name": "ipython",
    "version": 3
   },
   "file_extension": ".py",
   "mimetype": "text/x-python",
   "name": "python",
   "nbconvert_exporter": "python",
   "pygments_lexer": "ipython3",
   "version": "3.8.3"
  }
 },
 "nbformat": 4,
 "nbformat_minor": 4
}
